{
  "cells": [
    {
      "cell_type": "code",
      "execution_count": 1,
      "metadata": {
        "id": "4ABNu3X8jJFz"
      },
      "outputs": [],
      "source": [
        "import pandas as pd\n",
        "import numpy as np\n",
        "from sklearn.metrics.pairwise import cosine_similarity"
      ]
    },
    {
      "cell_type": "markdown",
      "metadata": {
        "id": "v37_lXJZjJF4"
      },
      "source": [
        "Implementamos la funcion matematica \"Similitud de cosenos\" para conocer la similitud entre vectores"
      ]
    },
    {
      "cell_type": "code",
      "execution_count": 2,
      "metadata": {
        "colab": {
          "base_uri": "https://localhost:8080/"
        },
        "id": "zn_B8c9EjJF8",
        "outputId": "58bc9e20-2c1d-4738-9766-831a28aa55ec"
      },
      "outputs": [
        {
          "output_type": "execute_result",
          "data": {
            "text/plain": [
              "array([[1.        , 0.97823198],\n",
              "       [0.97823198, 1.        ]])"
            ]
          },
          "metadata": {},
          "execution_count": 2
        }
      ],
      "source": [
        "Juan = [5,4,4]\n",
        "Diego = [4,5,5]\n",
        "cosine_similarity([Juan, Diego])"
      ]
    },
    {
      "cell_type": "markdown",
      "metadata": {
        "id": "tO0k3yrAjJGA"
      },
      "source": [
        "Otra manera de hacerlo es con NUMPY empleando la siguiente linea de codigo"
      ]
    },
    {
      "cell_type": "code",
      "execution_count": 3,
      "metadata": {
        "colab": {
          "base_uri": "https://localhost:8080/"
        },
        "id": "eBv3JQDyjJGB",
        "outputId": "55e90bab-88c8-4b4d-f29c-ef85b581fcd4"
      },
      "outputs": [
        {
          "output_type": "execute_result",
          "data": {
            "text/plain": [
              "0.9782319760890369"
            ]
          },
          "metadata": {},
          "execution_count": 3
        }
      ],
      "source": [
        "np.dot(Juan,Diego)/np.dot(np.linalg.norm(Juan), np.linalg.norm(Diego))"
      ]
    },
    {
      "cell_type": "markdown",
      "metadata": {
        "id": "64ATxreBjJGC"
      },
      "source": [
        "Esto seria util en el escenario perfecto, pero en la mayoria de los casos, hay matrices que no tienen un valor definido por lo que no podemos calcular la similitud de un valor que no esta definido"
      ]
    },
    {
      "cell_type": "code",
      "execution_count": 4,
      "metadata": {
        "colab": {
          "base_uri": "https://localhost:8080/"
        },
        "id": "oR3zu4hGjJGD",
        "outputId": "bf0f1fea-992f-4cff-b09f-851e788ce99a"
      },
      "outputs": [
        {
          "output_type": "execute_result",
          "data": {
            "text/plain": [
              "array([[ 5., nan,  4.],\n",
              "       [ 4.,  3.,  5.],\n",
              "       [ 4.,  5.,  5.],\n",
              "       [nan,  5., nan],\n",
              "       [nan,  5.,  3.]])"
            ]
          },
          "metadata": {},
          "execution_count": 4
        }
      ],
      "source": [
        "user_item = np.array([[5, np.nan, 4],[4,3,5],[4,5,5],[np.nan, 5, np.nan], [np.nan, 5, 3]])\n",
        "user_item"
      ]
    },
    {
      "cell_type": "markdown",
      "metadata": {
        "id": "e_scTeavjJGE"
      },
      "source": [
        "Por lo que utilizare la libreria \"Surprise\". Esta misma es una API de Scikit-learn y permite implementar varios algortimos basicos de recomendacion"
      ]
    },
    {
      "cell_type": "code",
      "execution_count": 5,
      "metadata": {
        "colab": {
          "base_uri": "https://localhost:8080/"
        },
        "id": "TgS4XPdjjJGE",
        "outputId": "3e5f58c5-1f60-4b7e-c3d2-b550facaa884"
      },
      "outputs": [
        {
          "output_type": "stream",
          "name": "stdout",
          "text": [
            "Collecting scikit-surprise\n",
            "  Downloading scikit-surprise-1.1.3.tar.gz (771 kB)\n",
            "\u001b[2K     \u001b[90m━━━━━━━━━━━━━━━━━━━━━━━━━━━━━━━━━━━━━━━\u001b[0m \u001b[32m772.0/772.0 kB\u001b[0m \u001b[31m6.4 MB/s\u001b[0m eta \u001b[36m0:00:00\u001b[0m\n",
            "\u001b[?25h  Preparing metadata (setup.py) ... \u001b[?25l\u001b[?25hdone\n",
            "Requirement already satisfied: joblib>=1.0.0 in /usr/local/lib/python3.10/dist-packages (from scikit-surprise) (1.3.2)\n",
            "Requirement already satisfied: numpy>=1.17.3 in /usr/local/lib/python3.10/dist-packages (from scikit-surprise) (1.23.5)\n",
            "Requirement already satisfied: scipy>=1.3.2 in /usr/local/lib/python3.10/dist-packages (from scikit-surprise) (1.11.2)\n",
            "Building wheels for collected packages: scikit-surprise\n",
            "  Building wheel for scikit-surprise (setup.py) ... \u001b[?25l\u001b[?25hdone\n",
            "  Created wheel for scikit-surprise: filename=scikit_surprise-1.1.3-cp310-cp310-linux_x86_64.whl size=3156233 sha256=54f1a5616e8450fb3b98666248ac9908b67c9efb34f99a3f1a76f9b2638a237a\n",
            "  Stored in directory: /root/.cache/pip/wheels/a5/ca/a8/4e28def53797fdc4363ca4af740db15a9c2f1595ebc51fb445\n",
            "Successfully built scikit-surprise\n",
            "Installing collected packages: scikit-surprise\n",
            "Successfully installed scikit-surprise-1.1.3\n"
          ]
        }
      ],
      "source": [
        "%pip install scikit-surprise"
      ]
    },
    {
      "cell_type": "markdown",
      "metadata": {
        "id": "-_qPkzSOeImp"
      },
      "source": [
        "Descargamos la base de datos"
      ]
    },
    {
      "cell_type": "code",
      "execution_count": 6,
      "metadata": {
        "colab": {
          "base_uri": "https://localhost:8080/"
        },
        "id": "mkTIY_tBjJGG",
        "outputId": "46e062d5-b36d-47e8-d982-eb34ea234013"
      },
      "outputs": [
        {
          "output_type": "stream",
          "name": "stdout",
          "text": [
            "Collecting wget\n",
            "  Downloading wget-3.2.zip (10 kB)\n",
            "  Preparing metadata (setup.py) ... \u001b[?25l\u001b[?25hdone\n",
            "Building wheels for collected packages: wget\n",
            "  Building wheel for wget (setup.py) ... \u001b[?25l\u001b[?25hdone\n",
            "  Created wheel for wget: filename=wget-3.2-py3-none-any.whl size=9655 sha256=7e3f04ec2e6be9ea01b1da70dfd187542d2e3c44070f2ba5bdb4dc0a539dfda6\n",
            "  Stored in directory: /root/.cache/pip/wheels/8b/f1/7f/5c94f0a7a505ca1c81cd1d9208ae2064675d97582078e6c769\n",
            "Successfully built wget\n",
            "Installing collected packages: wget\n",
            "Successfully installed wget-3.2\n"
          ]
        }
      ],
      "source": [
        "%pip install wget\n",
        "import wget\n",
        "url = 'https://files.grouplens.org/datasets/movielens/ml-100k/u.data'\n",
        "filename = wget.download(url)"
      ]
    },
    {
      "cell_type": "markdown",
      "metadata": {
        "id": "pIB1Mnv6fDgk"
      },
      "source": [
        "Ya que tenemos la Database, ahora hay que leerla, separarla por los espacios, por eso el \\t"
      ]
    },
    {
      "cell_type": "code",
      "execution_count": 7,
      "metadata": {
        "id": "tk9ADlvEjJGH"
      },
      "outputs": [],
      "source": [
        "mlens = pd.read_csv(\"u.data\",sep=\"\\t\",header=None)\n",
        "mlens.columns = [\"user_id\",\"item_id\",\"rating\",\"timestamp\"]"
      ]
    },
    {
      "cell_type": "code",
      "execution_count": 8,
      "metadata": {
        "id": "7hng5WbljJGI"
      },
      "outputs": [],
      "source": [
        "mlens = mlens.drop(\"timestamp\", axis=1)"
      ]
    },
    {
      "cell_type": "code",
      "execution_count": 9,
      "metadata": {
        "id": "D8bdM2rGjJGI"
      },
      "outputs": [],
      "source": [
        "from surprise import Dataset, Reader\n",
        "reader = Reader(rating_scale=(mlens[\"rating\"].min(),mlens[\"rating\"].max()))"
      ]
    },
    {
      "cell_type": "code",
      "execution_count": 10,
      "metadata": {
        "id": "-TF5umPbjJGK"
      },
      "outputs": [],
      "source": [
        "dataset = Dataset.load_from_df(mlens,reader)"
      ]
    },
    {
      "cell_type": "code",
      "execution_count": 11,
      "metadata": {
        "colab": {
          "base_uri": "https://localhost:8080/"
        },
        "id": "NO8kUU2WmfXh",
        "outputId": "f3887dda-6d26-462f-c2a6-d090f4d7ad54"
      },
      "outputs": [
        {
          "output_type": "execute_result",
          "data": {
            "text/plain": [
              "<surprise.dataset.DatasetAutoFolds at 0x7bdbc5382b30>"
            ]
          },
          "metadata": {},
          "execution_count": 11
        }
      ],
      "source": [
        "dataset"
      ]
    },
    {
      "cell_type": "code",
      "execution_count": 12,
      "metadata": {
        "id": "ytJmStMGmhmJ"
      },
      "outputs": [],
      "source": [
        "from surprise import SVD\n",
        "from surprise.model_selection import GridSearchCV"
      ]
    },
    {
      "cell_type": "markdown",
      "metadata": {
        "id": "3wFAcIavi7jD"
      },
      "source": [
        "Definimos algunas combinaciones de hiperparametros los cuales seran utilizadas al momento de recomnedarle al usuario. Estos hiperparametros buscan encontrar la configuracion optima para que el algoritmo funcione de la mejor manera posible"
      ]
    },
    {
      "cell_type": "code",
      "execution_count": 13,
      "metadata": {
        "id": "QtFZ4Bo-mkQC"
      },
      "outputs": [],
      "source": [
        "param_grid = {'n_epochs': [5, 10], 'lr_all': [0.002, 0.005], 'reg_all': [0.4, 0.6]}\n"
      ]
    },
    {
      "cell_type": "markdown",
      "metadata": {
        "id": "6ZoAiS-_lFim"
      },
      "source": [
        "Ahora que ya tenemos los parametros, creo una variable la cual contiene un objeto GridSearchCV la cual utilizo para que haga una busqueda de hiperparametros los cuales los voy a implementar en el algoritmo SVD. Una vez que se encuentren estos hiperparametros, el model se auto reajustara con estos ultimos"
      ]
    },
    {
      "cell_type": "code",
      "execution_count": 14,
      "metadata": {
        "id": "cFo0fyMNmnwS"
      },
      "outputs": [],
      "source": [
        "gs = GridSearchCV(SVD, param_grid, measures=['fcp',\"rmse\"], cv=3, refit=True)"
      ]
    },
    {
      "cell_type": "markdown",
      "metadata": {
        "id": "3SUzOX-Vls3S"
      },
      "source": [
        "Ejecutamos la busqueda para encontrar los mejores hiperparametros"
      ]
    },
    {
      "cell_type": "code",
      "execution_count": 15,
      "metadata": {
        "id": "suagUEY5puom"
      },
      "outputs": [],
      "source": [
        "gs.fit(dataset)"
      ]
    },
    {
      "cell_type": "markdown",
      "metadata": {
        "id": "OH4dFYZUmX5F"
      },
      "source": [
        "Printeo la informacion de cual fue el mejor modelo encontrado, tanto con  RMSE (Root Mean Squared Error, Error Cuadrático Medio de Raíz) o con \"fcp\" (Fraction of Concordant Pairs, Fracción de Pares Concordantes) LAS CUALES SON MEDIDAS QUE INGRESAMOS ANTERIORMENTE"
      ]
    },
    {
      "cell_type": "code",
      "execution_count": 16,
      "metadata": {
        "colab": {
          "base_uri": "https://localhost:8080/"
        },
        "id": "If6SGad7p42v",
        "outputId": "9399fcad-c5b3-47ed-c8a3-6ef7fb3d305d"
      },
      "outputs": [
        {
          "output_type": "execute_result",
          "data": {
            "text/plain": [
              "{'fcp': 0.6992031670404432, 'rmse': 0.963789825782253}"
            ]
          },
          "metadata": {},
          "execution_count": 16
        }
      ],
      "source": [
        "gs.best_score"
      ]
    },
    {
      "cell_type": "markdown",
      "metadata": {
        "id": "f1jH8R-3mqLt"
      },
      "source": [
        "Printeamos la informacion de cuales fueron los mejores parametro para luego reajustar el modelo"
      ]
    },
    {
      "cell_type": "code",
      "execution_count": 17,
      "metadata": {
        "colab": {
          "base_uri": "https://localhost:8080/"
        },
        "id": "mYwsnopKnEl1",
        "outputId": "cb8ee22b-b91a-4b1d-86b0-f7c2f5cf9f96"
      },
      "outputs": [
        {
          "output_type": "execute_result",
          "data": {
            "text/plain": [
              "{'fcp': {'n_epochs': 10, 'lr_all': 0.005, 'reg_all': 0.6},\n",
              " 'rmse': {'n_epochs': 10, 'lr_all': 0.005, 'reg_all': 0.4}}"
            ]
          },
          "metadata": {},
          "execution_count": 17
        }
      ],
      "source": [
        "gs.best_params"
      ]
    },
    {
      "cell_type": "code",
      "execution_count": 18,
      "metadata": {
        "id": "ZzQfhcQVp_mT"
      },
      "outputs": [],
      "source": [
        "best_model = gs.best_estimator[\"fcp\"]"
      ]
    },
    {
      "cell_type": "markdown",
      "metadata": {
        "id": "o4kN1guwoGfh"
      },
      "source": [
        "Junto al mejor modelo encontrado, predice la relacion entre el usuario 196 y el item 242"
      ]
    },
    {
      "cell_type": "code",
      "execution_count": 19,
      "metadata": {
        "id": "Xyzv6B8ynKKS"
      },
      "outputs": [],
      "source": [
        "pred = best_model.predict(\"196\", \"242\")"
      ]
    },
    {
      "cell_type": "markdown",
      "metadata": {
        "id": "oljFpKj8oO1Z"
      },
      "source": [
        "Imprimimos el resultado"
      ]
    },
    {
      "cell_type": "code",
      "execution_count": 20,
      "metadata": {
        "colab": {
          "base_uri": "https://localhost:8080/"
        },
        "id": "X-CWTqXLnLkl",
        "outputId": "ff46ab94-254e-4b14-9d46-bb0de3d93be0"
      },
      "outputs": [
        {
          "output_type": "execute_result",
          "data": {
            "text/plain": [
              "3.52986"
            ]
          },
          "metadata": {},
          "execution_count": 20
        }
      ],
      "source": [
        "pred.est"
      ]
    },
    {
      "cell_type": "markdown",
      "metadata": {
        "id": "KqjoSLBZoSAc"
      },
      "source": [
        "Probamos lo mismo que antes pero utilizando unas medidas diferentes, en vez de utilizar SVD esta vez utilizo SVDpp"
      ]
    },
    {
      "cell_type": "code",
      "execution_count": 21,
      "metadata": {
        "colab": {
          "base_uri": "https://localhost:8080/"
        },
        "id": "hF06BTyOogJi",
        "outputId": "de151fb0-7987-4a88-928f-ac39a5d61c19"
      },
      "outputs": [
        {
          "output_type": "execute_result",
          "data": {
            "text/plain": [
              "{'fcp': 0.6972733370119921, 'rmse': 0.9641150314105356}"
            ]
          },
          "metadata": {},
          "execution_count": 21
        }
      ],
      "source": [
        "from surprise import SVDpp\n",
        "gs = GridSearchCV(SVDpp, param_grid, measures=['fcp',\"rmse\"], cv=3, refit=True)\n",
        "gs.fit(dataset)\n",
        "gs.best_score"
      ]
    },
    {
      "cell_type": "markdown",
      "metadata": {
        "id": "4FCU5-g_AgZA"
      },
      "source": [
        "###Sistema de Recomendacion basado en el contenido"
      ]
    },
    {
      "cell_type": "code",
      "execution_count": 22,
      "metadata": {
        "colab": {
          "base_uri": "https://localhost:8080/"
        },
        "id": "1Ty5IGF7Akq5",
        "outputId": "d893f019-dad5-4865-886e-4d729502a872"
      },
      "outputs": [
        {
          "output_type": "stream",
          "name": "stdout",
          "text": [
            "Cloning into 'borges'...\n",
            "remote: Enumerating objects: 211, done.\u001b[K\n",
            "remote: Counting objects: 100% (211/211), done.\u001b[K\n",
            "remote: Compressing objects: 100% (158/158), done.\u001b[K\n",
            "remote: Total 211 (delta 89), reused 171 (delta 49), pack-reused 0\u001b[K\n",
            "Receiving objects: 100% (211/211), 2.21 MiB | 5.62 MiB/s, done.\n",
            "Resolving deltas: 100% (89/89), done.\n"
          ]
        }
      ],
      "source": [
        "!git clone https://github.com/karen-pal/borges"
      ]
    },
    {
      "cell_type": "code",
      "execution_count": 23,
      "metadata": {
        "colab": {
          "base_uri": "https://localhost:8080/"
        },
        "id": "qCMkmJXSA9D-",
        "outputId": "62d6c6f6-be53-4a87-9cf9-1118d4da4aad"
      },
      "outputs": [
        {
          "output_type": "stream",
          "name": "stdout",
          "text": [
            "Collecting pickle5\n",
            "  Downloading pickle5-0.0.11.tar.gz (132 kB)\n",
            "\u001b[?25l     \u001b[90m━━━━━━━━━━━━━━━━━━━━━━━━━━━━━━━━━━━━━━━━\u001b[0m \u001b[32m0.0/132.1 kB\u001b[0m \u001b[31m?\u001b[0m eta \u001b[36m-:--:--\u001b[0m\r\u001b[2K     \u001b[91m━━━━━━━━━━━━━━━━━━\u001b[0m\u001b[91m╸\u001b[0m\u001b[90m━━━━━━━━━━━━━━━━━━━━━\u001b[0m \u001b[32m61.4/132.1 kB\u001b[0m \u001b[31m1.8 MB/s\u001b[0m eta \u001b[36m0:00:01\u001b[0m\r\u001b[2K     \u001b[90m━━━━━━━━━━━━━━━━━━━━━━━━━━━━━━━━━━━━━━━\u001b[0m \u001b[32m132.1/132.1 kB\u001b[0m \u001b[31m2.4 MB/s\u001b[0m eta \u001b[36m0:00:00\u001b[0m\n",
            "\u001b[?25h  Preparing metadata (setup.py) ... \u001b[?25l\u001b[?25hdone\n",
            "Building wheels for collected packages: pickle5\n",
            "  Building wheel for pickle5 (setup.py) ... \u001b[?25l\u001b[?25hdone\n",
            "  Created wheel for pickle5: filename=pickle5-0.0.11-cp310-cp310-linux_x86_64.whl size=255317 sha256=ea62a757885fb2c90cbf211f8d13b89604a8e9beaca6682b6ef72563b896472d\n",
            "  Stored in directory: /root/.cache/pip/wheels/7d/14/ef/4aab19d27fa8e58772be5c71c16add0426acf9e1f64353235c\n",
            "Successfully built pickle5\n",
            "Installing collected packages: pickle5\n",
            "Successfully installed pickle5-0.0.11\n"
          ]
        }
      ],
      "source": [
        "pip install pickle5"
      ]
    },
    {
      "cell_type": "markdown",
      "metadata": {
        "id": "f-qCE6FyBp9w"
      },
      "source": [
        "Se coleccionan del dataset todos los archivos que terminen con la extension pkl y que anterior a la extension se encuentre la palabra texts. Luego, se itera cada archivo, y se abre cada uno de estos para luego coleccionarlos en la variable Df (Dataframe)"
      ]
    },
    {
      "cell_type": "code",
      "execution_count": 24,
      "metadata": {
        "colab": {
          "base_uri": "https://localhost:8080/"
        },
        "id": "AsyFXFV9AoFI",
        "outputId": "8e2e6291-ea95-435f-ea22-8722f56fc78b"
      },
      "outputs": [
        {
          "output_type": "execute_result",
          "data": {
            "text/plain": [
              "(719, 3)"
            ]
          },
          "metadata": {},
          "execution_count": 24
        }
      ],
      "source": [
        "import pickle\n",
        "from pathlib import Path\n",
        "import pandas as pd\n",
        "\n",
        "df = pd.DataFrame()\n",
        "# usando el asterisco de \"wildcard\" traemos todos los archivos en formato pickle\n",
        "pkls = Path('.').glob('./borges/datasets/*texts.pkl')\n",
        "\n",
        "# leemos todos los pickles y concatenarlos en un DataFrame\n",
        "for pkl in pkls:\n",
        "    with open(pkl, 'rb') as inp:\n",
        "        df_ = pickle.load(inp)\n",
        "    df = pd.concat([df, df_])\n",
        "\n",
        "df.shape"
      ]
    },
    {
      "cell_type": "code",
      "execution_count": 25,
      "metadata": {
        "colab": {
          "base_uri": "https://localhost:8080/",
          "height": 143
        },
        "id": "GI3XP3Z3CAsv",
        "outputId": "61269c0a-4cb1-4396-fa99-e4db1e85919b"
      },
      "outputs": [
        {
          "output_type": "execute_result",
          "data": {
            "text/plain": [
              "                                                 link  \\\n",
              "6   https://ciudadseva.com/texto/biografia-de-tade...   \n",
              "0             https://ciudadseva.com/texto/almuerzos/   \n",
              "29  https://ciudadseva.com/texto/historia-de-rosen...   \n",
              "\n",
              "                                        text_metadata  \\\n",
              "6   {'title': 'Biografía de Tadeo Isidoro Cruz', '...   \n",
              "0   {'title': 'Almuerzos', 'metadata': '[Minicuent...   \n",
              "29  {'title': 'Historia de Rosendo Juárez', 'metad...   \n",
              "\n",
              "                                                 text  \n",
              "6   El seis de febrero de 1829, los montoneros que...  \n",
              "0   En el restaurante de los cronopios pasan estas...  \n",
              "29  Serían las once de la noche, yo había entrado ...  "
            ],
            "text/html": [
              "\n",
              "  <div id=\"df-baa4a47f-2108-45c7-b5f5-adfe8b9ff301\" class=\"colab-df-container\">\n",
              "    <div>\n",
              "<style scoped>\n",
              "    .dataframe tbody tr th:only-of-type {\n",
              "        vertical-align: middle;\n",
              "    }\n",
              "\n",
              "    .dataframe tbody tr th {\n",
              "        vertical-align: top;\n",
              "    }\n",
              "\n",
              "    .dataframe thead th {\n",
              "        text-align: right;\n",
              "    }\n",
              "</style>\n",
              "<table border=\"1\" class=\"dataframe\">\n",
              "  <thead>\n",
              "    <tr style=\"text-align: right;\">\n",
              "      <th></th>\n",
              "      <th>link</th>\n",
              "      <th>text_metadata</th>\n",
              "      <th>text</th>\n",
              "    </tr>\n",
              "  </thead>\n",
              "  <tbody>\n",
              "    <tr>\n",
              "      <th>6</th>\n",
              "      <td>https://ciudadseva.com/texto/biografia-de-tade...</td>\n",
              "      <td>{'title': 'Biografía de Tadeo Isidoro Cruz', '...</td>\n",
              "      <td>El seis de febrero de 1829, los montoneros que...</td>\n",
              "    </tr>\n",
              "    <tr>\n",
              "      <th>0</th>\n",
              "      <td>https://ciudadseva.com/texto/almuerzos/</td>\n",
              "      <td>{'title': 'Almuerzos', 'metadata': '[Minicuent...</td>\n",
              "      <td>En el restaurante de los cronopios pasan estas...</td>\n",
              "    </tr>\n",
              "    <tr>\n",
              "      <th>29</th>\n",
              "      <td>https://ciudadseva.com/texto/historia-de-rosen...</td>\n",
              "      <td>{'title': 'Historia de Rosendo Juárez', 'metad...</td>\n",
              "      <td>Serían las once de la noche, yo había entrado ...</td>\n",
              "    </tr>\n",
              "  </tbody>\n",
              "</table>\n",
              "</div>\n",
              "    <div class=\"colab-df-buttons\">\n",
              "\n",
              "  <div class=\"colab-df-container\">\n",
              "    <button class=\"colab-df-convert\" onclick=\"convertToInteractive('df-baa4a47f-2108-45c7-b5f5-adfe8b9ff301')\"\n",
              "            title=\"Convert this dataframe to an interactive table.\"\n",
              "            style=\"display:none;\">\n",
              "\n",
              "  <svg xmlns=\"http://www.w3.org/2000/svg\" height=\"24px\" viewBox=\"0 -960 960 960\">\n",
              "    <path d=\"M120-120v-720h720v720H120Zm60-500h600v-160H180v160Zm220 220h160v-160H400v160Zm0 220h160v-160H400v160ZM180-400h160v-160H180v160Zm440 0h160v-160H620v160ZM180-180h160v-160H180v160Zm440 0h160v-160H620v160Z\"/>\n",
              "  </svg>\n",
              "    </button>\n",
              "\n",
              "  <style>\n",
              "    .colab-df-container {\n",
              "      display:flex;\n",
              "      gap: 12px;\n",
              "    }\n",
              "\n",
              "    .colab-df-convert {\n",
              "      background-color: #E8F0FE;\n",
              "      border: none;\n",
              "      border-radius: 50%;\n",
              "      cursor: pointer;\n",
              "      display: none;\n",
              "      fill: #1967D2;\n",
              "      height: 32px;\n",
              "      padding: 0 0 0 0;\n",
              "      width: 32px;\n",
              "    }\n",
              "\n",
              "    .colab-df-convert:hover {\n",
              "      background-color: #E2EBFA;\n",
              "      box-shadow: 0px 1px 2px rgba(60, 64, 67, 0.3), 0px 1px 3px 1px rgba(60, 64, 67, 0.15);\n",
              "      fill: #174EA6;\n",
              "    }\n",
              "\n",
              "    .colab-df-buttons div {\n",
              "      margin-bottom: 4px;\n",
              "    }\n",
              "\n",
              "    [theme=dark] .colab-df-convert {\n",
              "      background-color: #3B4455;\n",
              "      fill: #D2E3FC;\n",
              "    }\n",
              "\n",
              "    [theme=dark] .colab-df-convert:hover {\n",
              "      background-color: #434B5C;\n",
              "      box-shadow: 0px 1px 3px 1px rgba(0, 0, 0, 0.15);\n",
              "      filter: drop-shadow(0px 1px 2px rgba(0, 0, 0, 0.3));\n",
              "      fill: #FFFFFF;\n",
              "    }\n",
              "  </style>\n",
              "\n",
              "    <script>\n",
              "      const buttonEl =\n",
              "        document.querySelector('#df-baa4a47f-2108-45c7-b5f5-adfe8b9ff301 button.colab-df-convert');\n",
              "      buttonEl.style.display =\n",
              "        google.colab.kernel.accessAllowed ? 'block' : 'none';\n",
              "\n",
              "      async function convertToInteractive(key) {\n",
              "        const element = document.querySelector('#df-baa4a47f-2108-45c7-b5f5-adfe8b9ff301');\n",
              "        const dataTable =\n",
              "          await google.colab.kernel.invokeFunction('convertToInteractive',\n",
              "                                                    [key], {});\n",
              "        if (!dataTable) return;\n",
              "\n",
              "        const docLinkHtml = 'Like what you see? Visit the ' +\n",
              "          '<a target=\"_blank\" href=https://colab.research.google.com/notebooks/data_table.ipynb>data table notebook</a>'\n",
              "          + ' to learn more about interactive tables.';\n",
              "        element.innerHTML = '';\n",
              "        dataTable['output_type'] = 'display_data';\n",
              "        await google.colab.output.renderOutput(dataTable, element);\n",
              "        const docLink = document.createElement('div');\n",
              "        docLink.innerHTML = docLinkHtml;\n",
              "        element.appendChild(docLink);\n",
              "      }\n",
              "    </script>\n",
              "  </div>\n",
              "\n",
              "\n",
              "<div id=\"df-e4484bd0-20c9-4d93-b092-20478add74fc\">\n",
              "  <button class=\"colab-df-quickchart\" onclick=\"quickchart('df-e4484bd0-20c9-4d93-b092-20478add74fc')\"\n",
              "            title=\"Suggest charts.\"\n",
              "            style=\"display:none;\">\n",
              "\n",
              "<svg xmlns=\"http://www.w3.org/2000/svg\" height=\"24px\"viewBox=\"0 0 24 24\"\n",
              "     width=\"24px\">\n",
              "    <g>\n",
              "        <path d=\"M19 3H5c-1.1 0-2 .9-2 2v14c0 1.1.9 2 2 2h14c1.1 0 2-.9 2-2V5c0-1.1-.9-2-2-2zM9 17H7v-7h2v7zm4 0h-2V7h2v10zm4 0h-2v-4h2v4z\"/>\n",
              "    </g>\n",
              "</svg>\n",
              "  </button>\n",
              "\n",
              "<style>\n",
              "  .colab-df-quickchart {\n",
              "      --bg-color: #E8F0FE;\n",
              "      --fill-color: #1967D2;\n",
              "      --hover-bg-color: #E2EBFA;\n",
              "      --hover-fill-color: #174EA6;\n",
              "      --disabled-fill-color: #AAA;\n",
              "      --disabled-bg-color: #DDD;\n",
              "  }\n",
              "\n",
              "  [theme=dark] .colab-df-quickchart {\n",
              "      --bg-color: #3B4455;\n",
              "      --fill-color: #D2E3FC;\n",
              "      --hover-bg-color: #434B5C;\n",
              "      --hover-fill-color: #FFFFFF;\n",
              "      --disabled-bg-color: #3B4455;\n",
              "      --disabled-fill-color: #666;\n",
              "  }\n",
              "\n",
              "  .colab-df-quickchart {\n",
              "    background-color: var(--bg-color);\n",
              "    border: none;\n",
              "    border-radius: 50%;\n",
              "    cursor: pointer;\n",
              "    display: none;\n",
              "    fill: var(--fill-color);\n",
              "    height: 32px;\n",
              "    padding: 0;\n",
              "    width: 32px;\n",
              "  }\n",
              "\n",
              "  .colab-df-quickchart:hover {\n",
              "    background-color: var(--hover-bg-color);\n",
              "    box-shadow: 0 1px 2px rgba(60, 64, 67, 0.3), 0 1px 3px 1px rgba(60, 64, 67, 0.15);\n",
              "    fill: var(--button-hover-fill-color);\n",
              "  }\n",
              "\n",
              "  .colab-df-quickchart-complete:disabled,\n",
              "  .colab-df-quickchart-complete:disabled:hover {\n",
              "    background-color: var(--disabled-bg-color);\n",
              "    fill: var(--disabled-fill-color);\n",
              "    box-shadow: none;\n",
              "  }\n",
              "\n",
              "  .colab-df-spinner {\n",
              "    border: 2px solid var(--fill-color);\n",
              "    border-color: transparent;\n",
              "    border-bottom-color: var(--fill-color);\n",
              "    animation:\n",
              "      spin 1s steps(1) infinite;\n",
              "  }\n",
              "\n",
              "  @keyframes spin {\n",
              "    0% {\n",
              "      border-color: transparent;\n",
              "      border-bottom-color: var(--fill-color);\n",
              "      border-left-color: var(--fill-color);\n",
              "    }\n",
              "    20% {\n",
              "      border-color: transparent;\n",
              "      border-left-color: var(--fill-color);\n",
              "      border-top-color: var(--fill-color);\n",
              "    }\n",
              "    30% {\n",
              "      border-color: transparent;\n",
              "      border-left-color: var(--fill-color);\n",
              "      border-top-color: var(--fill-color);\n",
              "      border-right-color: var(--fill-color);\n",
              "    }\n",
              "    40% {\n",
              "      border-color: transparent;\n",
              "      border-right-color: var(--fill-color);\n",
              "      border-top-color: var(--fill-color);\n",
              "    }\n",
              "    60% {\n",
              "      border-color: transparent;\n",
              "      border-right-color: var(--fill-color);\n",
              "    }\n",
              "    80% {\n",
              "      border-color: transparent;\n",
              "      border-right-color: var(--fill-color);\n",
              "      border-bottom-color: var(--fill-color);\n",
              "    }\n",
              "    90% {\n",
              "      border-color: transparent;\n",
              "      border-bottom-color: var(--fill-color);\n",
              "    }\n",
              "  }\n",
              "</style>\n",
              "\n",
              "  <script>\n",
              "    async function quickchart(key) {\n",
              "      const quickchartButtonEl =\n",
              "        document.querySelector('#' + key + ' button');\n",
              "      quickchartButtonEl.disabled = true;  // To prevent multiple clicks.\n",
              "      quickchartButtonEl.classList.add('colab-df-spinner');\n",
              "      try {\n",
              "        const charts = await google.colab.kernel.invokeFunction(\n",
              "            'suggestCharts', [key], {});\n",
              "      } catch (error) {\n",
              "        console.error('Error during call to suggestCharts:', error);\n",
              "      }\n",
              "      quickchartButtonEl.classList.remove('colab-df-spinner');\n",
              "      quickchartButtonEl.classList.add('colab-df-quickchart-complete');\n",
              "    }\n",
              "    (() => {\n",
              "      let quickchartButtonEl =\n",
              "        document.querySelector('#df-e4484bd0-20c9-4d93-b092-20478add74fc button');\n",
              "      quickchartButtonEl.style.display =\n",
              "        google.colab.kernel.accessAllowed ? 'block' : 'none';\n",
              "    })();\n",
              "  </script>\n",
              "</div>\n",
              "    </div>\n",
              "  </div>\n"
            ]
          },
          "metadata": {},
          "execution_count": 25
        }
      ],
      "source": [
        "df.sample(3)"
      ]
    },
    {
      "cell_type": "code",
      "execution_count": 26,
      "metadata": {
        "id": "g-_x9qeWIG29"
      },
      "outputs": [],
      "source": [
        "# separamos de la metadata el título y autor en sus propias columnas\n",
        "df['title'] = df['text_metadata'].apply(lambda x: x['title'])\n",
        "df['author'] = df['text_metadata'].apply(lambda x: x['author'])"
      ]
    },
    {
      "cell_type": "code",
      "execution_count": 27,
      "metadata": {
        "colab": {
          "base_uri": "https://localhost:8080/",
          "height": 175
        },
        "id": "Dio0NCasz1iR",
        "outputId": "5d045a61-e493-4601-a66a-5b7f0a5e68fa"
      },
      "outputs": [
        {
          "output_type": "execute_result",
          "data": {
            "text/plain": [
              "                                                link  \\\n",
              "0       https://ciudadseva.com/texto/el-antropofago/   \n",
              "1  https://ciudadseva.com/texto/la-doble-y-unica-...   \n",
              "2   https://ciudadseva.com/texto/revolucion-palacio/   \n",
              "3       https://ciudadseva.com/texto/senora-palacio/   \n",
              "\n",
              "                                       text_metadata  \\\n",
              "0  {'title': 'El antropófago', 'metadata': '[Cuen...   \n",
              "1  {'title': 'La doble y única mujer', 'metadata'...   \n",
              "2  {'title': 'Revolución', 'metadata': '[Minicuen...   \n",
              "3  {'title': 'Señora', 'metadata': '[Cuento - Tex...   \n",
              "\n",
              "                                                text                   title  \\\n",
              "0  Allí está, en la penitenciaría, asomando por e...          El antropófago   \n",
              "1  (Ha sido preciso que me adapte a una serie de ...  La doble y única mujer   \n",
              "2  Pesas, pesas tanto. Pues salta sobre un platil...              Revolución   \n",
              "3  –Usted fue, sí, usted fue. –¿Señora…? –Le digo...                  Señora   \n",
              "\n",
              "          author  \n",
              "0  Pablo Palacio  \n",
              "1  Pablo Palacio  \n",
              "2  Pablo Palacio  \n",
              "3  Pablo Palacio  "
            ],
            "text/html": [
              "\n",
              "  <div id=\"df-140dfc60-ed68-4df2-a388-f541cb1341cf\" class=\"colab-df-container\">\n",
              "    <div>\n",
              "<style scoped>\n",
              "    .dataframe tbody tr th:only-of-type {\n",
              "        vertical-align: middle;\n",
              "    }\n",
              "\n",
              "    .dataframe tbody tr th {\n",
              "        vertical-align: top;\n",
              "    }\n",
              "\n",
              "    .dataframe thead th {\n",
              "        text-align: right;\n",
              "    }\n",
              "</style>\n",
              "<table border=\"1\" class=\"dataframe\">\n",
              "  <thead>\n",
              "    <tr style=\"text-align: right;\">\n",
              "      <th></th>\n",
              "      <th>link</th>\n",
              "      <th>text_metadata</th>\n",
              "      <th>text</th>\n",
              "      <th>title</th>\n",
              "      <th>author</th>\n",
              "    </tr>\n",
              "  </thead>\n",
              "  <tbody>\n",
              "    <tr>\n",
              "      <th>0</th>\n",
              "      <td>https://ciudadseva.com/texto/el-antropofago/</td>\n",
              "      <td>{'title': 'El antropófago', 'metadata': '[Cuen...</td>\n",
              "      <td>Allí está, en la penitenciaría, asomando por e...</td>\n",
              "      <td>El antropófago</td>\n",
              "      <td>Pablo Palacio</td>\n",
              "    </tr>\n",
              "    <tr>\n",
              "      <th>1</th>\n",
              "      <td>https://ciudadseva.com/texto/la-doble-y-unica-...</td>\n",
              "      <td>{'title': 'La doble y única mujer', 'metadata'...</td>\n",
              "      <td>(Ha sido preciso que me adapte a una serie de ...</td>\n",
              "      <td>La doble y única mujer</td>\n",
              "      <td>Pablo Palacio</td>\n",
              "    </tr>\n",
              "    <tr>\n",
              "      <th>2</th>\n",
              "      <td>https://ciudadseva.com/texto/revolucion-palacio/</td>\n",
              "      <td>{'title': 'Revolución', 'metadata': '[Minicuen...</td>\n",
              "      <td>Pesas, pesas tanto. Pues salta sobre un platil...</td>\n",
              "      <td>Revolución</td>\n",
              "      <td>Pablo Palacio</td>\n",
              "    </tr>\n",
              "    <tr>\n",
              "      <th>3</th>\n",
              "      <td>https://ciudadseva.com/texto/senora-palacio/</td>\n",
              "      <td>{'title': 'Señora', 'metadata': '[Cuento - Tex...</td>\n",
              "      <td>–Usted fue, sí, usted fue. –¿Señora…? –Le digo...</td>\n",
              "      <td>Señora</td>\n",
              "      <td>Pablo Palacio</td>\n",
              "    </tr>\n",
              "  </tbody>\n",
              "</table>\n",
              "</div>\n",
              "    <div class=\"colab-df-buttons\">\n",
              "\n",
              "  <div class=\"colab-df-container\">\n",
              "    <button class=\"colab-df-convert\" onclick=\"convertToInteractive('df-140dfc60-ed68-4df2-a388-f541cb1341cf')\"\n",
              "            title=\"Convert this dataframe to an interactive table.\"\n",
              "            style=\"display:none;\">\n",
              "\n",
              "  <svg xmlns=\"http://www.w3.org/2000/svg\" height=\"24px\" viewBox=\"0 -960 960 960\">\n",
              "    <path d=\"M120-120v-720h720v720H120Zm60-500h600v-160H180v160Zm220 220h160v-160H400v160Zm0 220h160v-160H400v160ZM180-400h160v-160H180v160Zm440 0h160v-160H620v160ZM180-180h160v-160H180v160Zm440 0h160v-160H620v160Z\"/>\n",
              "  </svg>\n",
              "    </button>\n",
              "\n",
              "  <style>\n",
              "    .colab-df-container {\n",
              "      display:flex;\n",
              "      gap: 12px;\n",
              "    }\n",
              "\n",
              "    .colab-df-convert {\n",
              "      background-color: #E8F0FE;\n",
              "      border: none;\n",
              "      border-radius: 50%;\n",
              "      cursor: pointer;\n",
              "      display: none;\n",
              "      fill: #1967D2;\n",
              "      height: 32px;\n",
              "      padding: 0 0 0 0;\n",
              "      width: 32px;\n",
              "    }\n",
              "\n",
              "    .colab-df-convert:hover {\n",
              "      background-color: #E2EBFA;\n",
              "      box-shadow: 0px 1px 2px rgba(60, 64, 67, 0.3), 0px 1px 3px 1px rgba(60, 64, 67, 0.15);\n",
              "      fill: #174EA6;\n",
              "    }\n",
              "\n",
              "    .colab-df-buttons div {\n",
              "      margin-bottom: 4px;\n",
              "    }\n",
              "\n",
              "    [theme=dark] .colab-df-convert {\n",
              "      background-color: #3B4455;\n",
              "      fill: #D2E3FC;\n",
              "    }\n",
              "\n",
              "    [theme=dark] .colab-df-convert:hover {\n",
              "      background-color: #434B5C;\n",
              "      box-shadow: 0px 1px 3px 1px rgba(0, 0, 0, 0.15);\n",
              "      filter: drop-shadow(0px 1px 2px rgba(0, 0, 0, 0.3));\n",
              "      fill: #FFFFFF;\n",
              "    }\n",
              "  </style>\n",
              "\n",
              "    <script>\n",
              "      const buttonEl =\n",
              "        document.querySelector('#df-140dfc60-ed68-4df2-a388-f541cb1341cf button.colab-df-convert');\n",
              "      buttonEl.style.display =\n",
              "        google.colab.kernel.accessAllowed ? 'block' : 'none';\n",
              "\n",
              "      async function convertToInteractive(key) {\n",
              "        const element = document.querySelector('#df-140dfc60-ed68-4df2-a388-f541cb1341cf');\n",
              "        const dataTable =\n",
              "          await google.colab.kernel.invokeFunction('convertToInteractive',\n",
              "                                                    [key], {});\n",
              "        if (!dataTable) return;\n",
              "\n",
              "        const docLinkHtml = 'Like what you see? Visit the ' +\n",
              "          '<a target=\"_blank\" href=https://colab.research.google.com/notebooks/data_table.ipynb>data table notebook</a>'\n",
              "          + ' to learn more about interactive tables.';\n",
              "        element.innerHTML = '';\n",
              "        dataTable['output_type'] = 'display_data';\n",
              "        await google.colab.output.renderOutput(dataTable, element);\n",
              "        const docLink = document.createElement('div');\n",
              "        docLink.innerHTML = docLinkHtml;\n",
              "        element.appendChild(docLink);\n",
              "      }\n",
              "    </script>\n",
              "  </div>\n",
              "\n",
              "\n",
              "<div id=\"df-1dc2118b-c05d-4ee2-86df-fd0686b79ebe\">\n",
              "  <button class=\"colab-df-quickchart\" onclick=\"quickchart('df-1dc2118b-c05d-4ee2-86df-fd0686b79ebe')\"\n",
              "            title=\"Suggest charts.\"\n",
              "            style=\"display:none;\">\n",
              "\n",
              "<svg xmlns=\"http://www.w3.org/2000/svg\" height=\"24px\"viewBox=\"0 0 24 24\"\n",
              "     width=\"24px\">\n",
              "    <g>\n",
              "        <path d=\"M19 3H5c-1.1 0-2 .9-2 2v14c0 1.1.9 2 2 2h14c1.1 0 2-.9 2-2V5c0-1.1-.9-2-2-2zM9 17H7v-7h2v7zm4 0h-2V7h2v10zm4 0h-2v-4h2v4z\"/>\n",
              "    </g>\n",
              "</svg>\n",
              "  </button>\n",
              "\n",
              "<style>\n",
              "  .colab-df-quickchart {\n",
              "      --bg-color: #E8F0FE;\n",
              "      --fill-color: #1967D2;\n",
              "      --hover-bg-color: #E2EBFA;\n",
              "      --hover-fill-color: #174EA6;\n",
              "      --disabled-fill-color: #AAA;\n",
              "      --disabled-bg-color: #DDD;\n",
              "  }\n",
              "\n",
              "  [theme=dark] .colab-df-quickchart {\n",
              "      --bg-color: #3B4455;\n",
              "      --fill-color: #D2E3FC;\n",
              "      --hover-bg-color: #434B5C;\n",
              "      --hover-fill-color: #FFFFFF;\n",
              "      --disabled-bg-color: #3B4455;\n",
              "      --disabled-fill-color: #666;\n",
              "  }\n",
              "\n",
              "  .colab-df-quickchart {\n",
              "    background-color: var(--bg-color);\n",
              "    border: none;\n",
              "    border-radius: 50%;\n",
              "    cursor: pointer;\n",
              "    display: none;\n",
              "    fill: var(--fill-color);\n",
              "    height: 32px;\n",
              "    padding: 0;\n",
              "    width: 32px;\n",
              "  }\n",
              "\n",
              "  .colab-df-quickchart:hover {\n",
              "    background-color: var(--hover-bg-color);\n",
              "    box-shadow: 0 1px 2px rgba(60, 64, 67, 0.3), 0 1px 3px 1px rgba(60, 64, 67, 0.15);\n",
              "    fill: var(--button-hover-fill-color);\n",
              "  }\n",
              "\n",
              "  .colab-df-quickchart-complete:disabled,\n",
              "  .colab-df-quickchart-complete:disabled:hover {\n",
              "    background-color: var(--disabled-bg-color);\n",
              "    fill: var(--disabled-fill-color);\n",
              "    box-shadow: none;\n",
              "  }\n",
              "\n",
              "  .colab-df-spinner {\n",
              "    border: 2px solid var(--fill-color);\n",
              "    border-color: transparent;\n",
              "    border-bottom-color: var(--fill-color);\n",
              "    animation:\n",
              "      spin 1s steps(1) infinite;\n",
              "  }\n",
              "\n",
              "  @keyframes spin {\n",
              "    0% {\n",
              "      border-color: transparent;\n",
              "      border-bottom-color: var(--fill-color);\n",
              "      border-left-color: var(--fill-color);\n",
              "    }\n",
              "    20% {\n",
              "      border-color: transparent;\n",
              "      border-left-color: var(--fill-color);\n",
              "      border-top-color: var(--fill-color);\n",
              "    }\n",
              "    30% {\n",
              "      border-color: transparent;\n",
              "      border-left-color: var(--fill-color);\n",
              "      border-top-color: var(--fill-color);\n",
              "      border-right-color: var(--fill-color);\n",
              "    }\n",
              "    40% {\n",
              "      border-color: transparent;\n",
              "      border-right-color: var(--fill-color);\n",
              "      border-top-color: var(--fill-color);\n",
              "    }\n",
              "    60% {\n",
              "      border-color: transparent;\n",
              "      border-right-color: var(--fill-color);\n",
              "    }\n",
              "    80% {\n",
              "      border-color: transparent;\n",
              "      border-right-color: var(--fill-color);\n",
              "      border-bottom-color: var(--fill-color);\n",
              "    }\n",
              "    90% {\n",
              "      border-color: transparent;\n",
              "      border-bottom-color: var(--fill-color);\n",
              "    }\n",
              "  }\n",
              "</style>\n",
              "\n",
              "  <script>\n",
              "    async function quickchart(key) {\n",
              "      const quickchartButtonEl =\n",
              "        document.querySelector('#' + key + ' button');\n",
              "      quickchartButtonEl.disabled = true;  // To prevent multiple clicks.\n",
              "      quickchartButtonEl.classList.add('colab-df-spinner');\n",
              "      try {\n",
              "        const charts = await google.colab.kernel.invokeFunction(\n",
              "            'suggestCharts', [key], {});\n",
              "      } catch (error) {\n",
              "        console.error('Error during call to suggestCharts:', error);\n",
              "      }\n",
              "      quickchartButtonEl.classList.remove('colab-df-spinner');\n",
              "      quickchartButtonEl.classList.add('colab-df-quickchart-complete');\n",
              "    }\n",
              "    (() => {\n",
              "      let quickchartButtonEl =\n",
              "        document.querySelector('#df-1dc2118b-c05d-4ee2-86df-fd0686b79ebe button');\n",
              "      quickchartButtonEl.style.display =\n",
              "        google.colab.kernel.accessAllowed ? 'block' : 'none';\n",
              "    })();\n",
              "  </script>\n",
              "</div>\n",
              "    </div>\n",
              "  </div>\n"
            ]
          },
          "metadata": {},
          "execution_count": 27
        }
      ],
      "source": [
        "df.head(4)"
      ]
    },
    {
      "cell_type": "code",
      "execution_count": 28,
      "metadata": {
        "colab": {
          "base_uri": "https://localhost:8080/"
        },
        "id": "MNwypEavITE1",
        "outputId": "4c128808-edad-48c9-f7c0-f638675f9260"
      },
      "outputs": [
        {
          "output_type": "execute_result",
          "data": {
            "text/plain": [
              "Jorge Luis Borges             60\n",
              "Julio Cortázar                55\n",
              "Baldomero Lillo               50\n",
              "Juan José Arreola             45\n",
              "Augusto Monterroso            45\n",
              "Alfonso Reyes                 37\n",
              "Enrique Anderson Imbert       36\n",
              "Mario Benedetti               33\n",
              "Julio Ramón Ribeyro           27\n",
              "Clarice Lispector             25\n",
              "Roberto Arlt                  25\n",
              "Julio Torri                   23\n",
              "Felisberto Hernández          15\n",
              "Luis Vidales                  14\n",
              "Adolfo Bioy Casares           13\n",
              "Rubén Darío                   13\n",
              "Álvaro Mutis                  11\n",
              "Edmundo Valadés               10\n",
              "Juan Rulfo                    10\n",
              "Juan Rodolfo Wilcock          10\n",
              "Salarrué                       9\n",
              "Manuel A. Alonso               9\n",
              "Elena Garro                    9\n",
              "Eduardo Gudiño Kieffer         8\n",
              "Juan Bosch                     8\n",
              "Alejo Carpentier               8\n",
              "Virgilio Díaz Grullón          7\n",
              "Silvina Ocampo                 7\n",
              "Andrés Rivera                  7\n",
              "Rodolfo Walsh                  6\n",
              "Ricardo Güiraldes              6\n",
              "Manuel Romero de Terreros      5\n",
              "Pablo Palacio                  5\n",
              "José Donoso                    5\n",
              "Julio Garmendia                4\n",
              "Gregorio López y Fuentes       4\n",
              "[Cuento - Texto completo.]     4\n",
              "José Edwards                   3\n",
              "Sergio Pitol                   3\n",
              "Amparo Dávila                  3\n",
              "María Luisa Bombal             3\n",
              "José Lezama Lima               3\n",
              "Inés Arredondo                 3\n",
              "Rubén Bareiro Saguier          3\n",
              "José María Arguedas            3\n",
              "Virgilio Piñera                3\n",
              "Vicente Huidobro               3\n",
              "Rómulo Gallegos                3\n",
              "Octavio Paz                    3\n",
              "Macedonio Fernández            3\n",
              "Leonora Carrington             2\n",
              "Santiago Dabove                2\n",
              "Teresa de la Parra             2\n",
              "Humberto Arenal                2\n",
              "Carmen Lyra                    1\n",
              "Ricardo Jaimes Freyre          1\n",
              "Esteban Echeverría             1\n",
              "Manuel González Zeledón        1\n",
              "Name: author, dtype: int64"
            ]
          },
          "metadata": {},
          "execution_count": 28
        }
      ],
      "source": [
        "# vemos los autores disponibloes\n",
        "df['author'].value_counts()"
      ]
    },
    {
      "cell_type": "code",
      "execution_count": 29,
      "metadata": {
        "colab": {
          "base_uri": "https://localhost:8080/"
        },
        "id": "cEV0QiOQIVKi",
        "outputId": "df12ad1a-262f-410a-e296-5d32c9d9d7f6"
      },
      "outputs": [
        {
          "output_type": "execute_result",
          "data": {
            "text/plain": [
              "(693, 5)"
            ]
          },
          "metadata": {},
          "execution_count": 29
        }
      ],
      "source": [
        "# quitamos duplicados y reiniciamos el índice\n",
        "df = df.drop_duplicates(subset=[c for c in df.columns if c != 'text_metadata'])\n",
        "df = df.reset_index(drop=True)\n",
        "df.shape"
      ]
    },
    {
      "cell_type": "markdown",
      "metadata": {
        "id": "uwK0A8LMIlEe"
      },
      "source": [
        "Importamos librerias para poder implementar el TF-IDF y el CountVectorizer. Este ultimo nos devuelve la frecuencia absoluta de cada termino por cada documento y luego el TF-IDF calcula la frecuencia de cada termino por documento"
      ]
    },
    {
      "cell_type": "markdown",
      "metadata": {
        "id": "pRQBJWRiJD7x"
      },
      "source": [
        "La formula que se muestra a continuacion es la formula para calclar el TF-IDF"
      ]
    },
    {
      "cell_type": "markdown",
      "metadata": {
        "id": "QvbbF4i9I_86"
      },
      "source": [
        "![image.png](data:image/png;base64,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)"
      ]
    },
    {
      "cell_type": "code",
      "execution_count": 30,
      "metadata": {
        "id": "IhHwa2oSIajA"
      },
      "outputs": [],
      "source": [
        "from sklearn.feature_extraction.text import TfidfVectorizer, CountVectorizer\n",
        "from sklearn.metrics.pairwise import linear_kernel\n",
        "from pprint import pprint"
      ]
    },
    {
      "cell_type": "code",
      "execution_count": 31,
      "metadata": {
        "colab": {
          "base_uri": "https://localhost:8080/"
        },
        "id": "D9BIUqRZIigw",
        "outputId": "53191fc0-0f0c-47f2-db91-05a6ef744120"
      },
      "outputs": [
        {
          "output_type": "stream",
          "name": "stdout",
          "text": [
            "[[0 0 1 2 1 1 0 1 1 1 0 1 1 1 1 0 0 0 0 0 1]\n",
            " [1 1 0 0 0 1 1 0 0 0 1 0 0 1 0 1 1 1 1 1 1]]\n",
            "['aparecen' 'con' 'contenido' 'de' 'del' 'documento' 'en' 'frecuencias'\n",
            " 'información' 'la' 'las' 'matriz' 'otorga' 'palabras' 'por' 'que'\n",
            " 'relaciona' 'se' 'su' 'tema' 'un']\n"
          ]
        }
      ],
      "source": [
        "# Instanciamos el CV\n",
        "vectorizer = CountVectorizer()\n",
        "\n",
        "doc1 = 'la matriz de frecuencias por palabras otorga información del contenido de un documento'\n",
        "doc2 = 'las palabras que aparecen en un documento se relaciona con su tema'\n",
        "# Definimos una lista con todos los strings\n",
        "data_corpus = [doc1, doc2]\n",
        "\n",
        "# Fiteamos el CV y transformamos los datos\n",
        "X = vectorizer.fit_transform(data_corpus)\n",
        "\n",
        "# Pasamos de sparse matrix a array usando .toarray()\n",
        "\n",
        "print(X.toarray())\n",
        "# Usando el metodo .get_feature_names_out() del CV podemos acceder al indice de palabras\n",
        "print(vectorizer.get_feature_names_out())"
      ]
    },
    {
      "cell_type": "markdown",
      "metadata": {
        "id": "g_QqGIN-PkD-"
      },
      "source": [
        "A traves de la libreria NLKT y haciendo uso de su apartado STOPWORDS puedo eliminar las palabras que se repiten mucho en los documentos y que no suman mucha importancia"
      ]
    },
    {
      "cell_type": "code",
      "execution_count": 32,
      "metadata": {
        "colab": {
          "base_uri": "https://localhost:8080/"
        },
        "id": "7sSD9ILLJJUs",
        "outputId": "547b8f92-ccc3-42d1-d5b6-124115a2d45d"
      },
      "outputs": [
        {
          "output_type": "stream",
          "name": "stderr",
          "text": [
            "[nltk_data] Downloading package stopwords to /root/nltk_data...\n",
            "[nltk_data]   Unzipping corpora/stopwords.zip.\n"
          ]
        }
      ],
      "source": [
        "import nltk\n",
        "from nltk.corpus import stopwords\n",
        "nltk.download('stopwords')\n",
        "\n",
        "stop = list(stopwords.words('spanish'))\n",
        "# eliminamos las \"stop words\", palabras comunes no informativas\n",
        "tf = TfidfVectorizer(stop_words=stop)"
      ]
    },
    {
      "cell_type": "markdown",
      "metadata": {
        "id": "aR_vx21dQHFx"
      },
      "source": [
        "A traves de la funcion FIT se analiza el texto en el dataframe para aprender el vocabulario de este y las frecuencias de las palabras y con la funcion TRANSFORM lo que se realiza es transformar el conjunto de documentos o en este caso palabras en matrices TF-IDF´s"
      ]
    },
    {
      "cell_type": "code",
      "execution_count": 33,
      "metadata": {
        "id": "moQB21yuJrwS"
      },
      "outputs": [],
      "source": [
        "# calculamos los features para cada ítem (texto)\n",
        "tfidf_matrix = tf.fit_transform(df['text'])"
      ]
    },
    {
      "cell_type": "markdown",
      "metadata": {
        "id": "632tHGUJRISp"
      },
      "source": [
        "Calculamos las similitudes coseno entre los diferentes documentos y las almaceno en un diccionario creado antes del for el cual se llama results"
      ]
    },
    {
      "cell_type": "code",
      "execution_count": 34,
      "metadata": {
        "id": "eclT0OCWJzft"
      },
      "outputs": [],
      "source": [
        "# calculamos las similitudes entre todos los documentos\n",
        "cosine_similarities = linear_kernel(tfidf_matrix, tfidf_matrix)\n",
        "n = 6\n",
        "\n",
        "\n",
        "# diccionario creado para guardar el resultado en un formato (autor - titulo : puntaje, titulo, autor)\n",
        "results = {}\n",
        "for idx, row in df.iterrows():\n",
        "    # guardamos los indices similares basados en la similitud coseno. Los ordenamos en modo ascendente, siendo 0 nada de similitud y 1 total\n",
        "    similar_indices = cosine_similarities[idx].argsort()[:-n-2:-1]\n",
        "    # guardamos los N más cercanos\n",
        "    similar_items = [(f\"{df['author'][i]} - {df['title'][i]}\", round(cosine_similarities[idx][i], 3)) for i in similar_indices]\n",
        "    results[f\"{row['author']} - {row['title']}\"] = similar_items[1:]"
      ]
    },
    {
      "cell_type": "markdown",
      "metadata": {
        "id": "lBxcIwbnRg_w"
      },
      "source": [
        "Printeo el resultado"
      ]
    },
    {
      "cell_type": "code",
      "execution_count": 35,
      "metadata": {
        "colab": {
          "base_uri": "https://localhost:8080/"
        },
        "id": "tF08VGWEJ3fX",
        "outputId": "f1a6e626-ca99-4ae7-b81d-a5a2dc563bae"
      },
      "outputs": [
        {
          "output_type": "stream",
          "name": "stdout",
          "text": [
            "[('Manuel A. Alonso - 1833-1883', 0.183),\n",
            " ('Baldomero Lillo - El perfil', 0.173),\n",
            " ('Manuel A. Alonso - La negrita y la vaquita', 0.167),\n",
            " ('Felisberto Hernández - Menos Julia', 0.161),\n",
            " ('Manuel A. Alonso - El sueño de mi compadre', 0.155),\n",
            " ('Felisberto Hernández - El cocodrilo', 0.135)]\n"
          ]
        }
      ],
      "source": [
        "pprint(results['Manuel A. Alonso - El jíbaro en la capital'])"
      ]
    },
    {
      "cell_type": "markdown",
      "metadata": {
        "id": "NELjBfzQRiw5"
      },
      "source": [
        "Creo una funcion llamada recomendar la cual toma como parametros, un auto y un titulo del mismo y te devuelve una lista con los libros que mas se parecen a este utilizando las funciones anteriormente aplicadas"
      ]
    },
    {
      "cell_type": "code",
      "execution_count": 36,
      "metadata": {
        "id": "_HWEFO8pJ5l_"
      },
      "outputs": [],
      "source": [
        "def recomendar(autor, titulo):\n",
        "    pprint(results[f\"{autor} - {titulo}\"])"
      ]
    },
    {
      "cell_type": "markdown",
      "metadata": {
        "id": "4bykefsaRvdY"
      },
      "source": [
        "Finalmente, lo ponemos a prueba a traves de este codigo, haciendo que me recomiende en base a AXOLOTL de Julio Cortazar"
      ]
    },
    {
      "cell_type": "code",
      "execution_count": 37,
      "metadata": {
        "colab": {
          "base_uri": "https://localhost:8080/"
        },
        "id": "kv2s4QdmJ7jL",
        "outputId": "4f240670-eae6-40bb-e913-b5c45d912780"
      },
      "outputs": [
        {
          "output_type": "stream",
          "name": "stdout",
          "text": [
            "[('Rodolfo Walsh - Esa mujer', 0.165),\n",
            " ('Mario Benedetti - Réquiem con tostadas', 0.137),\n",
            " ('Mario Benedetti - Pacto de sangre', 0.13),\n",
            " ('Sergio Pitol - Ícaro', 0.114),\n",
            " ('Felisberto Hernández - El cocodrilo', 0.112),\n",
            " ('Amparo Dávila - Árboles petrificados', 0.111)]\n"
          ]
        }
      ],
      "source": [
        "recomendar('Rodolfo Walsh', 'Ese hombre')"
      ]
    },
    {
      "cell_type": "markdown",
      "metadata": {
        "id": "RYgNZMFVqM--"
      },
      "source": [
        "Ahora tenemos que hacer una funcion para hacer una recomendacion dependiendo de los gustos de un usuario. Para esto, utilizo la misma tecnica que antes, el TF-IDF pero incluyendo valores claves o palabras claves al final del texto. Esta palabra clave va a variar dependiendo de los gustos elegidos por el usuario al momento de iniciar sesion anteriormente"
      ]
    },
    {
      "cell_type": "markdown",
      "metadata": {
        "id": "ypWD61Qrqn-x"
      },
      "source": [
        "Eliminando las palabras que no sirven de los textos"
      ]
    },
    {
      "cell_type": "code",
      "execution_count": 38,
      "metadata": {
        "id": "851aQDUhqRtB"
      },
      "outputs": [],
      "source": [
        "useful = list(stopwords.words('spanish'))\n",
        "tfwu= TfidfVectorizer(stop_words=stop)"
      ]
    },
    {
      "cell_type": "markdown",
      "metadata": {
        "id": "sX0P_iWtq-pm"
      },
      "source": [
        "Agregamos al texto a analizar las palabras claves"
      ]
    },
    {
      "cell_type": "markdown",
      "metadata": {
        "id": "hU6vFZVgxxTx"
      },
      "source": [
        "CAMBIAR ESTO, FALTA PRIMERO CONVERTIR TODO EL ARRAY EN UN STRING Y CONCATENAR TODAS LAS PALABRAS. DESPUES, EN VEZ DE INGRESARLOS EN EL MISMO TEXTO, CREAR OTRA COLUMNA O AVERIGUAR COMO HACER ESO"
      ]
    },
    {
      "cell_type": "code",
      "execution_count": 38,
      "metadata": {
        "id": "TVwuq5rIq0Vg"
      },
      "outputs": [],
      "source": []
    },
    {
      "cell_type": "markdown",
      "metadata": {
        "id": "mhh1dRcYNtqv"
      },
      "source": [
        "Lo agrego a la df"
      ]
    },
    {
      "cell_type": "code",
      "execution_count": 38,
      "metadata": {
        "id": "gKcjJcOeZRxJ"
      },
      "outputs": [],
      "source": []
    },
    {
      "cell_type": "markdown",
      "metadata": {
        "id": "ed5JzHYWoDAu"
      },
      "source": [
        "Una vez que tenemos los gustos del usuario incluidos en nuestra DataBase, pasamos a calcular sus features"
      ]
    },
    {
      "cell_type": "code",
      "execution_count": 38,
      "metadata": {
        "id": "-McNgfuClpOh"
      },
      "outputs": [],
      "source": []
    },
    {
      "cell_type": "markdown",
      "metadata": {
        "id": "1mseSJQVo4fE"
      },
      "source": [
        "Pasamos a calcular la similitud de cosenos entre el texto y los gustos del usuario"
      ]
    },
    {
      "cell_type": "code",
      "execution_count": null,
      "metadata": {
        "id": "Gpe9pVPRoQB0"
      },
      "outputs": [],
      "source": []
    },
    {
      "cell_type": "code",
      "execution_count": 38,
      "metadata": {
        "id": "6YG8G5_Ec5JQ"
      },
      "outputs": [],
      "source": []
    }
  ],
  "metadata": {
    "colab": {
      "provenance": []
    },
    "kernelspec": {
      "display_name": "miproyecto",
      "language": "python",
      "name": "python3"
    },
    "language_info": {
      "codemirror_mode": {
        "name": "ipython",
        "version": 3
      },
      "file_extension": ".py",
      "mimetype": "text/x-python",
      "name": "python",
      "nbconvert_exporter": "python",
      "pygments_lexer": "ipython3",
      "version": "3.10.0"
    }
  },
  "nbformat": 4,
  "nbformat_minor": 0
}